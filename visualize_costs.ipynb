{
 "cells": [
  {
   "cell_type": "code",
   "execution_count": 1,
   "metadata": {},
   "outputs": [
    {
     "name": "stdout",
     "output_type": "stream",
     "text": [
      "pygame 2.1.2 (SDL 2.0.18, Python 3.10.1)\n",
      "Hello from the pygame community. https://www.pygame.org/contribute.html\n"
     ]
    },
    {
     "name": "stderr",
     "output_type": "stream",
     "text": [
      "c:\\Users\\Harrison Truscott\\AppData\\Local\\Programs\\Python\\Python310\\lib\\site-packages\\torch\\distributed\\distributed_c10d.py:181: UserWarning: torch.distributed.reduce_op is deprecated, please use torch.distributed.ReduceOp instead\n",
      "  warnings.warn(\n"
     ]
    }
   ],
   "source": [
    "from pathlib import Path\n",
    "import pickle\n",
    "from games.smb1Py.py_mario_bros.PythonSuperMario_master.source import tools\n",
    "import games.smb1Py.py_mario_bros.PythonSuperMario_master.source.constants as c\n",
    "from games.smb1Py.py_mario_bros.PythonSuperMario_master.source.states.segment import Segment, SegmentState\n",
    "from play_level import LevelCheckpoint, annulus;\n",
    "import numpy as np\n",
    "from skimage.io import imshow"
   ]
  },
  {
   "cell_type": "code",
   "execution_count": 2,
   "metadata": {},
   "outputs": [],
   "source": [
    "checkpoint_loc = \"test_level_play_t4.chp\";\n",
    "level_path = Path('levels')/'testing'/'test3.lvl';\n",
    "\n",
    "level = SegmentState(None,None,file_path=level_path);\n",
    "\n",
    "with open(checkpoint_loc,'rb') as f:\n",
    "    check:LevelCheckpoint = pickle.load(f);\n",
    "\n",
    "preds = check.pred;\n",
    "costs = check.costs;\n",
    "\n",
    "game = tools.Control()\n",
    "state_dict = {c.LEVEL: Segment()}\n",
    "game.setup_states(state_dict, c.LEVEL)\n",
    "game.state.startup(0,{c.LEVEL_NUM:1},initial_state=level);\n",
    "\n",
    "search_data_resolution=4\n",
    "task_offset_downscale=1\n",
    "view_distance = 3.75;\n",
    "tile_scale = 2;\n",
    "\n",
    "gdat = game.get_game_data(view_distance,tile_scale);\n",
    "mdat = game.get_map_data(search_data_resolution);\n",
    "\n",
    "player_start:tuple[float,float] = gdat['pos'];\n",
    "search_grids = [np.array(mdat[g]) for g in ['collision_grid']];\n",
    "grid_size = search_grids[0].shape;\n",
    "grids_bounds:tuple[int,int,int,int] =  mdat['grid_bounds'];\n",
    "\n",
    "def get_cost(start:tuple[int,int],task:tuple[int,int]):\n",
    "    # if mdat['collision_grid'][task[0]][task[1]] != 0:\n",
    "    #     return float('inf');\n",
    "    if (not in_bounds(task)):\n",
    "        return float('inf');\n",
    "    if (start,task) in costs:\n",
    "        return costs[start,task];\n",
    "    elif (start,task) not in preds:\n",
    "        if mdat['collision_grid'][task[0]][task[1]] != 0:\n",
    "            return float('inf');\n",
    "        else:\n",
    "            return(get_cost(start,(task[0]-1,task[1]-1)));\n",
    "        raise Exception(\"Error: cannot evaluate fixed net outside of play conditions\");\n",
    "        self.predictions[start,task] = cost_from_fitness(dist(*grid_index_to_pos(start),grid_index_to_pos(task))*self.eval_fixed_net(search_grids,start,task,grid_size));\n",
    "    return preds[start,task];\n",
    "\n",
    "min_dist = 8; max_dist = 40\n",
    "task_offsets = [(s[0]*task_offset_downscale,s[1]*task_offset_downscale) for s in annulus(min_dist/task_offset_downscale,max_dist/task_offset_downscale)]\n",
    "\n",
    "def get_costs(pos)->np.ndarray:\n",
    "    out_grid = np.ndarray(grid_size);\n",
    "    out_grid.fill(0);\n",
    "    # center = (max_dist,max_dist);\n",
    "    for offset in task_offsets:\n",
    "        task = (pos[0]+offset[0],pos[1]+offset[1]);\n",
    "        if (in_bounds(task) and (pos,task) in costs):\n",
    "            out_grid[task] = costs[pos,task]+0.2;\n",
    "    out_grid[out_grid==float('inf')] = 0.1;\n",
    "    return out_grid;\n",
    "\n",
    "def get_preds(pos)->np.ndarray:\n",
    "    out_grid = np.ndarray(grid_size);\n",
    "    out_grid.fill(0);\n",
    "    # center = (max_dist,max_dist);\n",
    "    for offset in task_offsets:\n",
    "        task = (pos[0]+offset[0],pos[1]+offset[1]);\n",
    "        if (in_bounds(task) and (pos,task) in preds):\n",
    "            out_grid[task] = preds[pos,task]+0.2;\n",
    "    out_grid[out_grid==float('inf')] = 0.1;\n",
    "    return out_grid;\n",
    "\n",
    "def get_heuristic(pos)->np.ndarray:\n",
    "    out_grid = np.ndarray(grid_size);\n",
    "    out_grid.fill(0);\n",
    "    # center = (max_dist,max_dist);\n",
    "    for offset in task_offsets:\n",
    "        task = (pos[0]+offset[0],pos[1]+offset[1]);\n",
    "        if (in_bounds(task) and (pos,task) in preds):\n",
    "            out_grid[task] = preds[pos,task]+0.2;\n",
    "    out_grid[out_grid==float('inf')] = 0.1;\n",
    "    return out_grid;\n",
    "\n",
    "def in_bounds(pos:tuple[int,int]):\n",
    "    return pos[0] >= 0 and pos[0] < grid_size[0] and pos[1] >= 0 and pos[1] < grid_size[1];\n",
    "\n",
    "def pos_to_grid_index(pos:tuple[float,float]):\n",
    "    pos = pos[0]-c.TILE_SIZE/(2*search_data_resolution),pos[1]-c.TILE_SIZE/(2*search_data_resolution);\n",
    "    position_parameter = ((pos[0]-grids_bounds[0])/(grids_bounds[1]-grids_bounds[0]),(pos[1]-grids_bounds[2])/(grids_bounds[3]-grids_bounds[2]));\n",
    "    closest_pixel = (int(position_parameter[0]*grid_size[0]),int(position_parameter[1]*grid_size[1]))\n",
    "    return closest_pixel;"
   ]
  },
  {
   "cell_type": "code",
   "execution_count": 3,
   "metadata": {},
   "outputs": [],
   "source": [
    "def show_image(im):\n",
    "    imshow(im.transpose())"
   ]
  },
  {
   "cell_type": "code",
   "execution_count": 4,
   "metadata": {},
   "outputs": [
    {
     "name": "stderr",
     "output_type": "stream",
     "text": [
      "c:\\Users\\Harrison Truscott\\AppData\\Local\\Programs\\Python\\Python310\\lib\\site-packages\\skimage\\io\\_plugins\\matplotlib_plugin.py:150: UserWarning: Float image out of standard range; displaying image with stretched contrast.\n",
      "  lo, hi, cmap = _get_display_range(image)\n",
      "Clipping input data to the valid range for imshow with RGB data ([0..1] for floats or [0..255] for integers).\n"
     ]
    },
    {
     "name": "stdout",
     "output_type": "stream",
     "text": [
      "[20, 260]\n",
      "(1, 25)\n",
      "(200, 60)\n"
     ]
    },
    {
     "data": {
      "image/png": "[encoded data removed]",
      "text/plain": [
       "<Figure size 432x288 with 2 Axes>"
      ]
     },
     "metadata": {
      "needs_background": "light"
     },
     "output_type": "display_data"
    }
   ],
   "source": [
    "import matplotlib.pyplot as plt\n",
    "# p2 = (415,255);\n",
    "start = pos_to_grid_index(player_start);\n",
    "print(player_start);\n",
    "print(start);\n",
    "a = get_costs(start);\n",
    "b = get_preds(start);\n",
    "c = get_heuristic(start);\n",
    "print(a.shape);\n",
    "\n",
    "cost_pad = max_dist+2;\n",
    "bounds = [max(start[0]-cost_pad,0),min(start[0]+cost_pad,grid_size[0]-1),max(start[1]-cost_pad,0),min(start[1]+cost_pad,grid_size[1]-1)];\n",
    "a = a[bounds[0]:bounds[1]+1,bounds[2]:bounds[3]+1];\n",
    "b = b[bounds[0]:bounds[1]+1,bounds[2]:bounds[3]+1];\n",
    "display_grid = np.array(search_grids[0])[bounds[0]:bounds[1]+1,bounds[2]:bounds[3]+1];\n",
    "display_grids:np.ndarray = np.concatenate(([display_grid,a,b],),axis=0);\n",
    "\n",
    "show_image(display_grids);\n",
    "# print(np.min(a),np.max(a));"
   ]
  },
  {
   "cell_type": "code",
   "execution_count": 9,
   "metadata": {},
   "outputs": [
    {
     "name": "stdout",
     "output_type": "stream",
     "text": [
      "0.20678391969084722\n"
     ]
    },
    {
     "data": {
      "image/png": "[encoded data removed]",
      "text/plain": [
       "<Figure size 432x288 with 2 Axes>"
      ]
     },
     "metadata": {
      "needs_background": "light"
     },
     "output_type": "display_data"
    }
   ],
   "source": [
    "print(np.max(a[a<0.209]));\n",
    "show_image(np.array((a,a,a))/np.max(a))"
   ]
  },
  {
   "cell_type": "code",
   "execution_count": 10,
   "metadata": {},
   "outputs": [
    {
     "name": "stderr",
     "output_type": "stream",
     "text": [
      "c:\\Users\\Harrison Truscott\\AppData\\Local\\Programs\\Python\\Python310\\lib\\site-packages\\skimage\\io\\_plugins\\matplotlib_plugin.py:150: UserWarning: Float image out of standard range; displaying image with stretched contrast.\n",
      "  lo, hi, cmap = _get_display_range(image)\n",
      "Clipping input data to the valid range for imshow with RGB data ([0..1] for floats or [0..255] for integers).\n"
     ]
    },
    {
     "name": "stdout",
     "output_type": "stream",
     "text": [
      "0.21004408709500955\n",
      "92\n"
     ]
    },
    {
     "data": {
      "image/png": "[encoded data removed]",
      "text/plain": [
       "<Figure size 432x288 with 2 Axes>"
      ]
     },
     "metadata": {
      "needs_background": "light"
     },
     "output_type": "display_data"
    }
   ],
   "source": [
    "print(np.min(b[b>0.21]))\n",
    "print(np.count_nonzero(b>0.21))\n",
    "show_image(np.array((b,b,b))/np.max(b)*8)"
   ]
  }
 ],
 "metadata": {
  "kernelspec": {
   "display_name": "Python 3.10.1 64-bit",
   "language": "python",
   "name": "python3"
  },
  "language_info": {
   "codemirror_mode": {
    "name": "ipython",
    "version": 3
   },
   "file_extension": ".py",
   "mimetype": "text/x-python",
   "name": "python",
   "nbconvert_exporter": "python",
   "pygments_lexer": "ipython3",
   "version": "3.10.1"
  },
  "orig_nbformat": 4,
  "vscode": {
   "interpreter": {
    "hash": "1fab5b2657ca90398e2f7d6e349d246f9168433ae93312ee9b22cab62345ecaa"
   }
  }
 },
 "nbformat": 4,
 "nbformat_minor": 2
}
