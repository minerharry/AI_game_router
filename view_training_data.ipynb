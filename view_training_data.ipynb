{
 "cells": [
  {
   "cell_type": "code",
   "execution_count": 95,
   "metadata": {},
   "outputs": [
    {
     "name": "stdout",
     "output_type": "stream",
     "text": [
      "60\n",
      "[0, 520.0, 0, 520.0]\n",
      "(39, 39)\n"
     ]
    },
    {
     "data": {
      "image/png": "[encoded data removed]",
      "text/plain": [
       "<Figure size 432x288 with 2 Axes>"
      ]
     },
     "metadata": {
      "needs_background": "light"
     },
     "output_type": "display_data"
    }
   ],
   "source": [
    "from pathlib import Path\n",
    "import pickle\n",
    "import numpy as np\n",
    "from skimage.io import imshow\n",
    "import random\n",
    "import math\n",
    "\n",
    "in_file = Path(\"data\")/'gen_1530'\n",
    "\n",
    "dat = None;\n",
    "with open(in_file,'rb') as f:\n",
    "    dat = pickle.load(f);\n",
    "\n",
    "idx = random.randrange(len(dat))\n",
    "# idx = 88\n",
    "im = np.array(dat[idx][0][1]['collision_grid']);\n",
    "print(idx)\n",
    "\n",
    "bounds = dat[idx][0][1]['grid_bounds'];\n",
    "\n",
    "def index_from_pos(pos):\n",
    "    position_parameter = ((pos[0]-bounds[0])/(bounds[1]-bounds[0]),(pos[1]-bounds[2])/(bounds[3]-bounds[2]));\n",
    "    closest_pixel = [int(position_parameter[i]*im.shape[i]) for i in [0,1]];\n",
    "    return closest_pixel;\n",
    "\n",
    "start = dat[idx][0][0]['pos'];\n",
    "start_idx = index_from_pos(start);\n",
    "im[start_idx[0],start_idx[1]] = 2;\n",
    "\n",
    "end = dat[idx][0][0]['task_position'];\n",
    "end_idx = index_from_pos(end);\n",
    "im[end_idx[0],end_idx[1]] = -1;\n",
    "\n",
    "\n",
    "def f_x_grad(x,y,p1,p2):\n",
    "  d1 = (x - p1[0])/max(0.1,dist(x,y,p1));\n",
    "  d2 = (x - p2[0])/max(0.1,dist(x,y,p2));\n",
    "  return d1-d2;\n",
    "\n",
    "def f_y_grad(x,y,p1,p2):\n",
    "  d1 = (y-p1[1])/max(0.1,dist(x,y,p1));\n",
    "  d2 = (y-p2[1])/max(0.1,dist(x,y,p2));\n",
    "  return d1-d2;\n",
    "\n",
    "def f_smear(x,y,p1,p2):\n",
    "  return 1/(dist(x,y,p1)+dist(x,y,p2));\n",
    "\n",
    "def dist(x,y,p):\n",
    "  return math.sqrt((x-p[0])**2 + (y-p[1])**2)\n",
    "\n",
    "size = im.shape;\n",
    "x_grad = np.array([[f_x_grad(x,y,start_idx,end_idx) for x in range(size[0])] for y in range(size[1])]);\n",
    "y_grad = np.array([[f_y_grad(x,y,start_idx,end_idx) for x in range(size[0])] for y in range(size[1])]);\n",
    "smear = np.array([[f_smear(x,y,start_idx,end_idx) for x in range(size[0])] for y in range(size[1])]);\n",
    "\n",
    "print(bounds);\n",
    "\n",
    "print(im.shape)\n",
    "imshow(im);\n"
   ]
  },
  {
   "cell_type": "code",
   "execution_count": 96,
   "metadata": {},
   "outputs": [
    {
     "name": "stdout",
     "output_type": "stream",
     "text": [
      "(36, 36)\n"
     ]
    },
    {
     "data": {
      "text/plain": [
       "<matplotlib.image.AxesImage at 0x2f6983b0ac0>"
      ]
     },
     "execution_count": 96,
     "metadata": {},
     "output_type": "execute_result"
    },
    {
     "data": {
      "image/png": "[encoded data removed]",
      "text/plain": [
       "<Figure size 432x288 with 2 Axes>"
      ]
     },
     "metadata": {
      "needs_background": "light"
     },
     "output_type": "display_data"
    }
   ],
   "source": [
    "im = np.array(dat[idx][0][0]['collision_grid']);\n",
    "print(im.shape)\n",
    "imshow(im)"
   ]
  }
 ],
 "metadata": {
  "kernelspec": {
   "display_name": "Python 3.10.1 64-bit",
   "language": "python",
   "name": "python3"
  },
  "language_info": {
   "codemirror_mode": {
    "name": "ipython",
    "version": 3
   },
   "file_extension": ".py",
   "mimetype": "text/x-python",
   "name": "python",
   "nbconvert_exporter": "python",
   "pygments_lexer": "ipython3",
   "version": "3.10.1"
  },
  "orig_nbformat": 4,
  "vscode": {
   "interpreter": {
    "hash": "1fab5b2657ca90398e2f7d6e349d246f9168433ae93312ee9b22cab62345ecaa"
   }
  }
 },
 "nbformat": 4,
 "nbformat_minor": 2
}
